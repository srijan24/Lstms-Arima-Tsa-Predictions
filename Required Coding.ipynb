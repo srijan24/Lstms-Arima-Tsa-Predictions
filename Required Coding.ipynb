{
 "cells": [
  {
   "cell_type": "code",
   "execution_count": 1,
   "id": "9da5c7cb",
   "metadata": {},
   "outputs": [],
   "source": [
    "import numpy as np\n",
    "import pandas as pd\n",
    "import matplotlib.pyplot as plt\n",
    "import torch\n",
    "from torch import nn\n",
    "import torch.nn.functional as F\n",
    "import seaborn as sns\n",
    "\n",
    "import statsmodels.api as sm\n",
    "import arch.unitroot as stat_tests\n",
    "import datetime\n",
    "from statsmodels.tsa.arima.model import ARIMA\n",
    "from statsmodels.tsa.statespace.sarimax import SARIMAX\n",
    "import warnings\n",
    "\n",
    "warnings.filterwarnings('ignore')"
   ]
  },
  {
   "cell_type": "code",
   "execution_count": 2,
   "id": "98da0267",
   "metadata": {},
   "outputs": [],
   "source": [
    "# data from yahoo finance\n",
    "goldman = pd.read_csv('./data/GS.csv')[['Date','Close']]\n",
    "jpmorgan = pd.read_csv('./data/JPM.csv')[['Date','Close']]\n",
    "morganst = pd.read_csv('./data/MS.csv')[['Date','Close']]\n",
    "stateind = pd.read_csv('./data/SBIN.NS.csv')[['Date','Close']]"
   ]
  },
  {
   "cell_type": "code",
   "execution_count": 3,
   "id": "02281329",
   "metadata": {},
   "outputs": [],
   "source": [
    "# DATA PREPROCESSING\n",
    "goldman['Date'] = pd.to_datetime(goldman['Date'], format='%Y-%m-%d')\n",
    "goldman = goldman.set_index('Date')\n",
    "\n",
    "jpmorgan['Date'] = pd.to_datetime(jpmorgan['Date'], format='%Y-%m-%d')\n",
    "jpmorgan = jpmorgan.set_index('Date')\n",
    "\n",
    "morganst['Date'] = pd.to_datetime(morganst['Date'], format='%Y-%m-%d')\n",
    "morganst = morganst.set_index('Date')\n",
    "\n",
    "stateind['Date'] = pd.to_datetime(stateind['Date'], format='%Y-%m-%d')\n",
    "stateind = stateind.set_index('Date')"
   ]
  },
  {
   "cell_type": "code",
   "execution_count": 4,
   "id": "138b2ef5",
   "metadata": {},
   "outputs": [],
   "source": [
    "### SBI stock X and Y\n",
    "X_sbi = stateind['Close']\n",
    "Y_sbi = X_sbi[1:]\n",
    "Y_sbi.index = X_sbi.index[:-1]\n",
    "\n",
    "### GS+ stock X and Y\n",
    "X_gs = pd.DataFrame()\n",
    "X_gs.index = goldman.index\n",
    "X_gs['GS_Close'] = goldman['Close']\n",
    "X_gs['JP_Close'] = jpmorgan['Close']\n",
    "X_gs['MS_Close'] = morganst['Close']\n",
    "\n",
    "Y_gs = goldman['Close'][1:]\n",
    "Y_gs.index = X_gs.index[:-1]\n",
    "X_gs = X_gs[:-1]"
   ]
  },
  {
   "cell_type": "code",
   "execution_count": 5,
   "id": "aa528bbe",
   "metadata": {},
   "outputs": [
    {
     "data": {
      "text/html": [
       "<div>\n",
       "<style scoped>\n",
       "    .dataframe tbody tr th:only-of-type {\n",
       "        vertical-align: middle;\n",
       "    }\n",
       "\n",
       "    .dataframe tbody tr th {\n",
       "        vertical-align: top;\n",
       "    }\n",
       "\n",
       "    .dataframe thead th {\n",
       "        text-align: right;\n",
       "    }\n",
       "</style>\n",
       "<table border=\"1\" class=\"dataframe\">\n",
       "  <thead>\n",
       "    <tr style=\"text-align: right;\">\n",
       "      <th></th>\n",
       "      <th>GS_Close</th>\n",
       "      <th>JP_Close</th>\n",
       "      <th>MS_Close</th>\n",
       "    </tr>\n",
       "    <tr>\n",
       "      <th>Date</th>\n",
       "      <th></th>\n",
       "      <th></th>\n",
       "      <th></th>\n",
       "    </tr>\n",
       "  </thead>\n",
       "  <tbody>\n",
       "    <tr>\n",
       "      <th>1999-05-05</th>\n",
       "      <td>69.1250</td>\n",
       "      <td>53.458332</td>\n",
       "      <td>49.59375</td>\n",
       "    </tr>\n",
       "    <tr>\n",
       "      <th>1999-05-06</th>\n",
       "      <td>67.9375</td>\n",
       "      <td>51.708332</td>\n",
       "      <td>47.43750</td>\n",
       "    </tr>\n",
       "    <tr>\n",
       "      <th>1999-05-07</th>\n",
       "      <td>74.1250</td>\n",
       "      <td>52.250000</td>\n",
       "      <td>50.34375</td>\n",
       "    </tr>\n",
       "    <tr>\n",
       "      <th>1999-05-10</th>\n",
       "      <td>70.6875</td>\n",
       "      <td>52.666668</td>\n",
       "      <td>48.93750</td>\n",
       "    </tr>\n",
       "  </tbody>\n",
       "</table>\n",
       "</div>"
      ],
      "text/plain": [
       "            GS_Close   JP_Close  MS_Close\n",
       "Date                                     \n",
       "1999-05-05   69.1250  53.458332  49.59375\n",
       "1999-05-06   67.9375  51.708332  47.43750\n",
       "1999-05-07   74.1250  52.250000  50.34375\n",
       "1999-05-10   70.6875  52.666668  48.93750"
      ]
     },
     "execution_count": 5,
     "metadata": {},
     "output_type": "execute_result"
    }
   ],
   "source": [
    "X_gs.head(4)"
   ]
  },
  {
   "cell_type": "code",
   "execution_count": 6,
   "id": "16cd5ddd",
   "metadata": {},
   "outputs": [
    {
     "data": {
      "text/plain": [
       "[<matplotlib.lines.Line2D at 0x28429f46220>]"
      ]
     },
     "execution_count": 6,
     "metadata": {},
     "output_type": "execute_result"
    },
    {
     "data": {
      "image/png": "[encoded data removed]",
      "text/plain": [
       "<Figure size 432x288 with 1 Axes>"
      ]
     },
     "metadata": {
      "needs_background": "light"
     },
     "output_type": "display_data"
    }
   ],
   "source": [
    "plt.plot(X_sbi)"
   ]
  },
  {
   "cell_type": "code",
   "execution_count": 6,
   "id": "8dced7eb",
   "metadata": {},
   "outputs": [
    {
     "data": {
      "text/plain": [
       "<matplotlib.legend.Legend at 0x1f54b84b7f0>"
      ]
     },
     "execution_count": 6,
     "metadata": {},
     "output_type": "execute_result"
    },
    {
     "data": {
      "image/png": "[encoded data removed]",
      "text/plain": [
       "<Figure size 432x288 with 1 Axes>"
      ]
     },
     "metadata": {
      "needs_background": "light"
     },
     "output_type": "display_data"
    }
   ],
   "source": [
    "plt.plot(np.log(X_gs['GS_Close']), label='GS')\n",
    "plt.plot(np.log(X_gs['JP_Close']), label='JP')\n",
    "plt.plot(np.log(X_gs['MS_Close']), label='MS')\n",
    "plt.title(\"Logarithmic Close price of GS, JP, MS stocks\\n(1999-2017)\")\n",
    "plt.legend()"
   ]
  },
  {
   "cell_type": "code",
   "execution_count": 7,
   "id": "dd9bf01b",
   "metadata": {},
   "outputs": [
    {
     "data": {
      "text/plain": [
       "<matplotlib.legend.Legend at 0x1f54b7a0d30>"
      ]
     },
     "execution_count": 7,
     "metadata": {},
     "output_type": "execute_result"
    },
    {
     "data": {
      "image/png": "[encoded data removed]",
      "text/plain": [
       "<Figure size 432x288 with 1 Axes>"
      ]
     },
     "metadata": {
      "needs_background": "light"
     },
     "output_type": "display_data"
    }
   ],
   "source": [
    "plt.plot(np.log(stateind), label='SBI')\n",
    "plt.title(\"Logarithmic Close price of SBI stock\\n(1999-2017)\")\n",
    "plt.legend()"
   ]
  },
  {
   "cell_type": "code",
   "execution_count": 116,
   "id": "7687a393",
   "metadata": {},
   "outputs": [
    {
     "name": "stdout",
     "output_type": "stream",
     "text": [
      "                               SARIMAX Results                                \n",
      "==============================================================================\n",
      "Dep. Variable:               GS_Close   No. Observations:                 4667\n",
      "Model:               SARIMAX(1, 0, 0)   Log Likelihood               13599.203\n",
      "Date:                Mon, 06 Dec 2021   AIC                         -27190.405\n",
      "Time:                        00:45:59   BIC                         -27164.612\n",
      "Sample:                             0   HQIC                        -27181.334\n",
      "                               - 4667                                         \n",
      "Covariance Type:                  opg                                         \n",
      "==============================================================================\n",
      "                 coef    std err          z      P>|z|      [0.025      0.975]\n",
      "------------------------------------------------------------------------------\n",
      "JP_Close       0.2664      0.005     55.888      0.000       0.257       0.276\n",
      "MS_Close       0.4706      0.003    173.722      0.000       0.465       0.476\n",
      "ar.L1          0.9998   7.38e-05   1.35e+04      0.000       1.000       1.000\n",
      "sigma2         0.0002   1.51e-06    113.205      0.000       0.000       0.000\n",
      "===================================================================================\n",
      "Ljung-Box (L1) (Q):                  19.88   Jarque-Bera (JB):             17878.28\n",
      "Prob(Q):                              0.00   Prob(JB):                         0.00\n",
      "Heteroskedasticity (H):               0.26   Skew:                            -0.19\n",
      "Prob(H) (two-sided):                  0.00   Kurtosis:                        12.58\n",
      "===================================================================================\n",
      "\n",
      "Warnings:\n",
      "[1] Covariance matrix calculated using the outer product of gradients (complex-step).\n"
     ]
    }
   ],
   "source": [
    "mod = SARIMAX(np.log(X_gs['GS_Close']), np.log(X_gs[['JP_Close', 'MS_Close']]))\n",
    "fit_res = mod.fit()\n",
    "print(fit_res.summary())"
   ]
  },
  {
   "cell_type": "code",
   "execution_count": 120,
   "id": "5d3aa1fa",
   "metadata": {},
   "outputs": [
    {
     "name": "stdout",
     "output_type": "stream",
     "text": [
      "GS Data has this many rows: 4667 ;65% of which is approx: 3033\n",
      "SBI Data has this many rows: 4663 ;65% of which is approx: 3030\n"
     ]
    }
   ],
   "source": [
    "### Splitting Data \n",
    "print(\"GS Data has this many rows:\",X_gs.shape[0],\";65% of which is approx:\",int(X_gs.shape[0]*.65))\n",
    "print(\"SBI Data has this many rows:\",X_sbi.shape[0],\";65% of which is approx:\",int(X_sbi.shape[0]*.65))\n"
   ]
  },
  {
   "cell_type": "code",
   "execution_count": 91,
   "id": "80c1dba4",
   "metadata": {},
   "outputs": [
    {
     "name": "stdout",
     "output_type": "stream",
     "text": [
      "0.6505249625026783 0.6510829937808278\n"
     ]
    }
   ],
   "source": [
    "### so we set limit as first 3036 rows for our useage\n",
    "print(3036/4667, 3036/4663)"
   ]
  },
  {
   "cell_type": "code",
   "execution_count": 5,
   "id": "75540386",
   "metadata": {},
   "outputs": [],
   "source": [
    "X_train_gs = X_gs[:3036]\n",
    "Y_train_gs = Y_gs[:3036]\n",
    "\n",
    "X_test_gs = X_gs[3036:]\n",
    "Y_test_gs = Y_gs[3036:]\n",
    "\n",
    "X_train_sbi = X_sbi[:3036]\n",
    "Y_train_sbi = Y_sbi[:3036]\n",
    "\n",
    "X_test_sbi = X_sbi[3036:]\n",
    "Y_test_sbi = Y_sbi[3036:]"
   ]
  },
  {
   "cell_type": "code",
   "execution_count": 14,
   "id": "35f12759",
   "metadata": {},
   "outputs": [
    {
     "data": {
      "image/png": "[encoded data removed]",
      "text/plain": [
       "<Figure size 432x288 with 1 Axes>"
      ]
     },
     "metadata": {
      "needs_background": "light"
     },
     "output_type": "display_data"
    }
   ],
   "source": [
    "plt.plot(X_train_sbi, label='sbi train')\n",
    "plt.plot(X_test_sbi, label='sbi test')\n",
    "plt.title(\"Close Price of SBI Stock\\n(1999-2017)\")\n",
    "plt.legend()\n",
    "plt.savefig('./plots/SBI-stock.png')"
   ]
  },
  {
   "cell_type": "code",
   "execution_count": 15,
   "id": "86de5abf",
   "metadata": {},
   "outputs": [
    {
     "data": {
      "image/png": "[encoded data removed]",
      "text/plain": [
       "<Figure size 432x288 with 1 Axes>"
      ]
     },
     "metadata": {
      "needs_background": "light"
     },
     "output_type": "display_data"
    }
   ],
   "source": [
    "plt.plot(np.log(X_train_sbi), label='sbi train')\n",
    "plt.plot(np.log(X_test_sbi), label='sbi test')\n",
    "plt.legend()\n",
    "plt.title(\"Logarithmic Close Price of SBI Stock\\n(1999-2017)\")\n",
    "plt.savefig('./plots/log-SBI-stock.png')"
   ]
  },
  {
   "cell_type": "code",
   "execution_count": 16,
   "id": "ae613ad5",
   "metadata": {},
   "outputs": [
    {
     "data": {
      "image/png": "[encoded data removed]",
      "text/plain": [
       "<Figure size 432x288 with 1 Axes>"
      ]
     },
     "metadata": {
      "needs_background": "light"
     },
     "output_type": "display_data"
    }
   ],
   "source": [
    "plt.plot((X_train_gs['GS_Close']), label='GS train')\n",
    "plt.plot((X_train_gs['JP_Close']), label='JP train')\n",
    "plt.plot((X_train_gs['MS_Close']), label='MS train')\n",
    "\n",
    "plt.plot((X_test_gs['GS_Close']), label='GS test')\n",
    "plt.plot((X_test_gs['JP_Close']), label='JP test')\n",
    "plt.plot((X_test_gs['MS_Close']), label='MS test')\n",
    "plt.title(\"Close price of GS, JP, MS stocks\\n(1999-2017)\")\n",
    "plt.legend()\n",
    "plt.savefig('./plots/GS-etc-closeprice.png')"
   ]
  },
  {
   "cell_type": "code",
   "execution_count": 17,
   "id": "5e8d2966",
   "metadata": {},
   "outputs": [
    {
     "data": {
      "image/png": "[encoded data removed]",
      "text/plain": [
       "<Figure size 432x288 with 1 Axes>"
      ]
     },
     "metadata": {
      "needs_background": "light"
     },
     "output_type": "display_data"
    }
   ],
   "source": [
    "plt.plot(np.log(X_train_gs['GS_Close']), label='GS train')\n",
    "plt.plot(np.log(X_train_gs['JP_Close']), label='JP train')\n",
    "plt.plot(np.log(X_train_gs['MS_Close']), label='MS train')\n",
    "\n",
    "plt.plot(np.log(X_test_gs['GS_Close']), label='GS test')\n",
    "plt.plot(np.log(X_test_gs['JP_Close']), label='JP test')\n",
    "plt.plot(np.log(X_test_gs['MS_Close']), label='MS test')\n",
    "plt.title(\"Logarithmic Close price of GS, JP, MS stocks\\n(1999-2017)\")\n",
    "plt.legend()\n",
    "plt.savefig('./plots/log-GS-etc-closeprice.png')"
   ]
  },
  {
   "cell_type": "code",
   "execution_count": 132,
   "id": "cf5190ef",
   "metadata": {},
   "outputs": [
    {
     "name": "stdout",
     "output_type": "stream",
     "text": [
      "                               SARIMAX Results                                \n",
      "==============================================================================\n",
      "Dep. Variable:               GS_Close   No. Observations:                 3035\n",
      "Model:               SARIMAX(1, 0, 0)   Log Likelihood               -6532.000\n",
      "Date:                Mon, 06 Dec 2021   AIC                          13072.001\n",
      "Time:                        00:56:37   BIC                          13096.073\n",
      "Sample:                             0   HQIC                         13080.654\n",
      "                               - 3035                                         \n",
      "Covariance Type:                  opg                                         \n",
      "==============================================================================\n",
      "                 coef    std err          z      P>|z|      [0.025      0.975]\n",
      "------------------------------------------------------------------------------\n",
      "JP_Close       0.9924      0.022     45.357      0.000       0.950       1.035\n",
      "MS_Close       1.0482      0.014     76.010      0.000       1.021       1.075\n",
      "ar.L1          0.9993      0.001   1930.325      0.000       0.998       1.000\n",
      "sigma2         4.3250      0.048     90.945      0.000       4.232       4.418\n",
      "===================================================================================\n",
      "Ljung-Box (L1) (Q):                   7.06   Jarque-Bera (JB):             11066.97\n",
      "Prob(Q):                              0.01   Prob(JB):                         0.00\n",
      "Heteroskedasticity (H):               2.45   Skew:                            -0.19\n",
      "Prob(H) (two-sided):                  0.00   Kurtosis:                        12.35\n",
      "===================================================================================\n",
      "\n",
      "Warnings:\n",
      "[1] Covariance matrix calculated using the outer product of gradients (complex-step).\n"
     ]
    }
   ],
   "source": [
    "mod = SARIMAX(X_train_gs['GS_Close'], X_train_gs[['JP_Close','MS_Close']])\n",
    "res = mod.fit()\n",
    "print(res.summary())"
   ]
  },
  {
   "cell_type": "code",
   "execution_count": 133,
   "id": "c69e069d",
   "metadata": {},
   "outputs": [
    {
     "data": {
      "text/plain": [
       "13072.000981629828"
      ]
     },
     "execution_count": 133,
     "metadata": {},
     "output_type": "execute_result"
    }
   ],
   "source": [
    "res.aic"
   ]
  },
  {
   "cell_type": "code",
   "execution_count": 140,
   "id": "69414ea8",
   "metadata": {},
   "outputs": [
    {
     "name": "stdout",
     "output_type": "stream",
     "text": [
      "AIC Results:\n",
      "[[19  0]]\n",
      "\n",
      "BIC Results:\n",
      "[[0 1]]\n"
     ]
    }
   ],
   "source": [
    "### finding best SARIMAX model (cor-related)\n",
    "pq_lim = 25\n",
    "aicm = [[float('Inf') for _ in range(pq_lim)] for __ in range(pq_lim)]\n",
    "bicm = [[float('Inf') for _ in range(pq_lim)] for __ in range(pq_lim)]\n",
    "for p in range(pq_lim):\n",
    "    for q in range(pq_lim):\n",
    "        if p != 0 or q != 0:\n",
    "            mod = SARIMAX(np.log(X_train_gs['GS_Close']), np.log(X_train_gs[['JP_Close','MS_Close']]),order=(p,1,q))\n",
    "            res = mod.fit()\n",
    "            aicm[p][q] = res.aic\n",
    "            bicm[p][q] = res.bic\n",
    "\n",
    "abest = np.argwhere(aicm == np.min(aicm))\n",
    "bbest = np.argwhere(bicm == np.min(bicm))\n",
    "\n",
    "print(\"AIC Results:\")\n",
    "print(abest)\n",
    "\n",
    "print(\"\\nBIC Results:\")\n",
    "print(bbest)"
   ]
  },
  {
   "cell_type": "code",
   "execution_count": 153,
   "id": "e57974ab",
   "metadata": {},
   "outputs": [
    {
     "data": {
      "text/html": [
       "<div>\n",
       "<style scoped>\n",
       "    .dataframe tbody tr th:only-of-type {\n",
       "        vertical-align: middle;\n",
       "    }\n",
       "\n",
       "    .dataframe tbody tr th {\n",
       "        vertical-align: top;\n",
       "    }\n",
       "\n",
       "    .dataframe thead th {\n",
       "        text-align: right;\n",
       "    }\n",
       "</style>\n",
       "<table border=\"1\" class=\"dataframe\">\n",
       "  <thead>\n",
       "    <tr style=\"text-align: right;\">\n",
       "      <th></th>\n",
       "      <th>GS_Close</th>\n",
       "      <th>JP_Close</th>\n",
       "      <th>MS_Close</th>\n",
       "    </tr>\n",
       "    <tr>\n",
       "      <th>Date</th>\n",
       "      <th></th>\n",
       "      <th></th>\n",
       "      <th></th>\n",
       "    </tr>\n",
       "  </thead>\n",
       "  <tbody>\n",
       "    <tr>\n",
       "      <th>2011-05-19</th>\n",
       "      <td>139.339996</td>\n",
       "      <td>44.000000</td>\n",
       "      <td>24.299999</td>\n",
       "    </tr>\n",
       "    <tr>\n",
       "      <th>2011-05-20</th>\n",
       "      <td>134.990005</td>\n",
       "      <td>43.130001</td>\n",
       "      <td>23.830000</td>\n",
       "    </tr>\n",
       "    <tr>\n",
       "      <th>2011-05-23</th>\n",
       "      <td>135.839996</td>\n",
       "      <td>42.549999</td>\n",
       "      <td>23.690001</td>\n",
       "    </tr>\n",
       "    <tr>\n",
       "      <th>2011-05-24</th>\n",
       "      <td>136.339996</td>\n",
       "      <td>42.340000</td>\n",
       "      <td>23.530001</td>\n",
       "    </tr>\n",
       "    <tr>\n",
       "      <th>2011-05-25</th>\n",
       "      <td>136.240005</td>\n",
       "      <td>42.270000</td>\n",
       "      <td>23.559999</td>\n",
       "    </tr>\n",
       "  </tbody>\n",
       "</table>\n",
       "</div>"
      ],
      "text/plain": [
       "              GS_Close   JP_Close   MS_Close\n",
       "Date                                        \n",
       "2011-05-19  139.339996  44.000000  24.299999\n",
       "2011-05-20  134.990005  43.130001  23.830000\n",
       "2011-05-23  135.839996  42.549999  23.690001\n",
       "2011-05-24  136.339996  42.340000  23.530001\n",
       "2011-05-25  136.240005  42.270000  23.559999"
      ]
     },
     "execution_count": 153,
     "metadata": {},
     "output_type": "execute_result"
    }
   ],
   "source": [
    "X_train_gs.tail(5)"
   ]
  },
  {
   "cell_type": "code",
   "execution_count": 142,
   "id": "c44fde1b",
   "metadata": {},
   "outputs": [],
   "source": [
    "p1, q1 = 19, 0\n",
    "p2, q2 = 0, 1\n",
    "mod1 = SARIMAX(np.log(X_train_gs['GS_Close']), np.log(X_train_gs[['JP_Close','MS_Close']]), order=(p1,1,q1))\n",
    "mod2 = SARIMAX(np.log(X_train_gs['GS_Close']), np.log(X_train_gs[['JP_Close','MS_Close']]), order=(p2,1,q2))\n",
    "res1 = mod1.fit()\n",
    "res2 = mod2.fit()"
   ]
  },
  {
   "cell_type": "code",
   "execution_count": 155,
   "id": "c58c84fe",
   "metadata": {},
   "outputs": [
    {
     "name": "stdout",
     "output_type": "stream",
     "text": [
      "RES 1\n",
      "                               SARIMAX Results                                \n",
      "==============================================================================\n",
      "Dep. Variable:               GS_Close   No. Observations:                 3035\n",
      "Model:              SARIMAX(19, 1, 0)   Log Likelihood                8428.143\n",
      "Date:                Mon, 06 Dec 2021   AIC                         -16812.286\n",
      "Time:                        14:15:18   BIC                         -16679.898\n",
      "Sample:                             0   HQIC                        -16764.693\n",
      "                               - 3035                                         \n",
      "Covariance Type:                  opg                                         \n",
      "==============================================================================\n",
      "                 coef    std err          z      P>|z|      [0.025      0.975]\n",
      "------------------------------------------------------------------------------\n",
      "JP_Close       0.2465      0.007     34.781      0.000       0.233       0.260\n",
      "MS_Close       0.4780      0.005    105.229      0.000       0.469       0.487\n",
      "ar.L1         -0.0626      0.013     -4.964      0.000      -0.087      -0.038\n",
      "ar.L2         -0.0276      0.012     -2.300      0.021      -0.051      -0.004\n",
      "ar.L3         -0.0006      0.013     -0.042      0.966      -0.027       0.026\n",
      "ar.L4         -0.0582      0.013     -4.567      0.000      -0.083      -0.033\n",
      "ar.L5         -0.0182      0.013     -1.418      0.156      -0.043       0.007\n",
      "ar.L6       2.376e-05      0.013      0.002      0.999      -0.025       0.025\n",
      "ar.L7          0.0159      0.013      1.188      0.235      -0.010       0.042\n",
      "ar.L8         -0.0227      0.014     -1.638      0.101      -0.050       0.004\n",
      "ar.L9          0.0526      0.013      4.053      0.000       0.027       0.078\n",
      "ar.L10         0.0270      0.014      1.981      0.048       0.000       0.054\n",
      "ar.L11        -0.0019      0.014     -0.136      0.892      -0.029       0.025\n",
      "ar.L12         0.0271      0.014      1.994      0.046       0.000       0.054\n",
      "ar.L13        -0.0287      0.012     -2.316      0.021      -0.053      -0.004\n",
      "ar.L14         0.0471      0.015      3.229      0.001       0.018       0.076\n",
      "ar.L15        -0.0427      0.013     -3.162      0.002      -0.069      -0.016\n",
      "ar.L16         0.0137      0.014      1.017      0.309      -0.013       0.040\n",
      "ar.L17         0.0107      0.013      0.795      0.426      -0.016       0.037\n",
      "ar.L18         0.0319      0.013      2.398      0.016       0.006       0.058\n",
      "ar.L19        -0.0479      0.013     -3.648      0.000      -0.074      -0.022\n",
      "sigma2         0.0002   3.13e-06     72.251      0.000       0.000       0.000\n",
      "===================================================================================\n",
      "Ljung-Box (L1) (Q):                   0.02   Jarque-Bera (JB):              6006.32\n",
      "Prob(Q):                              0.88   Prob(JB):                         0.00\n",
      "Heteroskedasticity (H):               1.15   Skew:                            -0.27\n",
      "Prob(H) (two-sided):                  0.02   Kurtosis:                         9.87\n",
      "===================================================================================\n",
      "\n",
      "Warnings:\n",
      "[1] Covariance matrix calculated using the outer product of gradients (complex-step).\n",
      "\n",
      "\n",
      "RES 2\n",
      "                               SARIMAX Results                                \n",
      "==============================================================================\n",
      "Dep. Variable:               GS_Close   No. Observations:                 3035\n",
      "Model:               SARIMAX(0, 1, 1)   Log Likelihood                8401.388\n",
      "Date:                Mon, 06 Dec 2021   AIC                         -16794.776\n",
      "Time:                        14:15:18   BIC                         -16770.706\n",
      "Sample:                             0   HQIC                        -16786.123\n",
      "                               - 3035                                         \n",
      "Covariance Type:                  opg                                         \n",
      "==============================================================================\n",
      "                 coef    std err          z      P>|z|      [0.025      0.975]\n",
      "------------------------------------------------------------------------------\n",
      "JP_Close       0.2517      0.007     38.219      0.000       0.239       0.265\n",
      "MS_Close       0.4758      0.004    127.713      0.000       0.468       0.483\n",
      "ma.L1         -0.0673      0.012     -5.757      0.000      -0.090      -0.044\n",
      "sigma2         0.0002   2.94e-06     78.409      0.000       0.000       0.000\n",
      "===================================================================================\n",
      "Ljung-Box (L1) (Q):                   0.02   Jarque-Bera (JB):              6609.25\n",
      "Prob(Q):                              0.90   Prob(JB):                         0.00\n",
      "Heteroskedasticity (H):               1.15   Skew:                            -0.18\n",
      "Prob(H) (two-sided):                  0.03   Kurtosis:                        10.22\n",
      "===================================================================================\n",
      "\n",
      "Warnings:\n",
      "[1] Covariance matrix calculated using the outer product of gradients (complex-step).\n"
     ]
    }
   ],
   "source": [
    "print(\"RES 1\")\n",
    "print(res1.summary())\n",
    "print(\"\\n\\nRES 2\")\n",
    "print(res2.summary())"
   ]
  },
  {
   "cell_type": "code",
   "execution_count": null,
   "id": "704a4942",
   "metadata": {},
   "outputs": [],
   "source": [
    "pd.to_datetime(goldman['Date'], format='%Y-%m-%d')"
   ]
  },
  {
   "cell_type": "code",
   "execution_count": 160,
   "id": "9941a998",
   "metadata": {
    "scrolled": true
   },
   "outputs": [
    {
     "data": {
      "text/plain": [
       "(3035, 3)"
      ]
     },
     "execution_count": 160,
     "metadata": {},
     "output_type": "execute_result"
    }
   ],
   "source": [
    "X_train_gs.shape"
   ]
  },
  {
   "cell_type": "code",
   "execution_count": 161,
   "id": "d6b82a60",
   "metadata": {},
   "outputs": [],
   "source": [
    "pred1 = res1.get_prediction(dynamic=3034)\n",
    "#pred2 = res2.get_prediction(dynamic='2011-05-24')"
   ]
  },
  {
   "cell_type": "code",
   "execution_count": 164,
   "id": "3bc18d89",
   "metadata": {},
   "outputs": [
    {
     "data": {
      "text/plain": [
       "Date\n",
       "1999-05-05     67.937500\n",
       "1999-05-06     74.125000\n",
       "1999-05-07     70.687500\n",
       "1999-05-10     70.625000\n",
       "1999-05-11     73.500000\n",
       "                 ...    \n",
       "2011-05-19    134.990005\n",
       "2011-05-20    135.839996\n",
       "2011-05-23    136.339996\n",
       "2011-05-24    136.240005\n",
       "2011-05-25    136.259995\n",
       "Name: Close, Length: 3035, dtype: float64"
      ]
     },
     "execution_count": 164,
     "metadata": {},
     "output_type": "execute_result"
    }
   ],
   "source": [
    "Y_train_gs"
   ]
  },
  {
   "cell_type": "code",
   "execution_count": 152,
   "id": "1253188e",
   "metadata": {},
   "outputs": [
    {
     "name": "stdout",
     "output_type": "stream",
     "text": [
      "MSE for SARIMAX(19,1,0)\n",
      "11.821352409983891\n",
      "\n",
      "MSE for SARIMAX(0,1,1)\n",
      "11.827875993646206\n"
     ]
    }
   ],
   "source": [
    "print(\"MSE for SARIMAX(19,1,0)\")\n",
    "print(np.mean((np.exp(pred1.predicted_mean[1:]) - Y_train_gs[1:])**2))\n",
    "print(\"\\nMSE for SARIMAX(0,1,1)\")\n",
    "print(np.mean((np.exp(pred2.predicted_mean[1:]) - Y_train_gs[1:])**2))"
   ]
  },
  {
   "cell_type": "code",
   "execution_count": null,
   "id": "59dd3384",
   "metadata": {},
   "outputs": [],
   "source": [
    "## SARIMAX(19,1,0) has a lower MSE, so we go with SARIMAX(19,1,0)"
   ]
  },
  {
   "cell_type": "code",
   "execution_count": 141,
   "id": "05a35e59",
   "metadata": {},
   "outputs": [
    {
     "name": "stdout",
     "output_type": "stream",
     "text": [
      "AIC Results:\n",
      "[[4 4]]\n",
      "\n",
      "BIC Results:\n",
      "[[0 1]]\n"
     ]
    }
   ],
   "source": [
    "### finding best ARIMA model (single data)\n",
    "pq_lim = 25\n",
    "aicm = [[float('Inf') for _ in range(pq_lim)] for __ in range(pq_lim)]\n",
    "bicm = [[float('Inf') for _ in range(pq_lim)] for __ in range(pq_lim)]\n",
    "for p in range(pq_lim):\n",
    "    for q in range(pq_lim):\n",
    "        if p != 0 or q != 0:\n",
    "            mod = ARIMA(np.log(X_train_sbi), order=(p,1,q))\n",
    "            res = mod.fit()\n",
    "            aicm[p][q] = res.aic\n",
    "            bicm[p][q] = res.bic\n",
    "\n",
    "abest = np.argwhere(aicm == np.min(aicm))\n",
    "bbest = np.argwhere(bicm == np.min(bicm))\n",
    "\n",
    "print(\"AIC Results:\")\n",
    "print(abest)\n",
    "\n",
    "print(\"\\nBIC Results:\")\n",
    "print(bbest)            "
   ]
  },
  {
   "cell_type": "code",
   "execution_count": 10,
   "id": "1c08eb53",
   "metadata": {},
   "outputs": [],
   "source": [
    "p1, q1 = 4, 4\n",
    "p2, q2 = 0, 1\n",
    "arimaa = ARIMA(np.log(X_train_sbi), order=(p1,1,q1))\n",
    "resa = arimaa.fit()\n",
    "\n",
    "arimab = ARIMA(np.log(X_train_sbi), order=(p2,1,q2))\n",
    "resb = arimab.fit()"
   ]
  },
  {
   "cell_type": "code",
   "execution_count": 13,
   "id": "1646ba23",
   "metadata": {},
   "outputs": [
    {
     "data": {
      "text/plain": [
       "Date\n",
       "1999-05-05     17.238125\n",
       "1999-05-06     18.620382\n",
       "1999-05-07     18.960051\n",
       "1999-05-10     19.549751\n",
       "1999-05-11     19.719585\n",
       "                 ...    \n",
       "2011-04-08    277.825012\n",
       "2011-04-11    278.420013\n",
       "2011-04-13    281.899994\n",
       "2011-04-15    280.815002\n",
       "2011-04-18    275.154999\n",
       "Name: Close, Length: 3035, dtype: float64"
      ]
     },
     "execution_count": 13,
     "metadata": {},
     "output_type": "execute_result"
    }
   ],
   "source": [
    "X_train_sbi"
   ]
  },
  {
   "cell_type": "code",
   "execution_count": 25,
   "id": "a738f18b",
   "metadata": {},
   "outputs": [
    {
     "name": "stdout",
     "output_type": "stream",
     "text": [
      "MSE for ARIMA(4,1,4)\n",
      "18.70474780170631\n",
      "\n",
      "MSE for ARIMA(0,1,1)\n",
      "18.78904014590805\n"
     ]
    }
   ],
   "source": [
    "print(\"MSE for ARIMA(4,1,4)\")\n",
    "print(np.mean((np.exp(resa.predict())[1:] - Y_train_sbi[1:])**2)\n",
    "     )\n",
    "print(\"\\nMSE for ARIMA(0,1,1)\")\n",
    "print(np.mean((np.exp(resb.predict())[1:] - Y_train_sbi[1:])**2))"
   ]
  },
  {
   "cell_type": "code",
   "execution_count": null,
   "id": "a85ea5ca",
   "metadata": {},
   "outputs": [],
   "source": []
  },
  {
   "cell_type": "code",
   "execution_count": null,
   "id": "066724ea",
   "metadata": {},
   "outputs": [],
   "source": [
    "### LSTM predictions"
   ]
  },
  {
   "cell_type": "code",
   "execution_count": null,
   "id": "43db3137",
   "metadata": {},
   "outputs": [],
   "source": [
    "### step 1 for LSTM:\n",
    "### setup batches"
   ]
  },
  {
   "cell_type": "code",
   "execution_count": 18,
   "id": "804161ac",
   "metadata": {},
   "outputs": [
    {
     "data": {
      "text/plain": [
       "array([[ 17.238125,  18.620382,  18.960051, ..., 281.899994, 280.815002,\n",
       "        275.154999]])"
      ]
     },
     "execution_count": 18,
     "metadata": {},
     "output_type": "execute_result"
    }
   ],
   "source": [
    "np.array(X_train_sbi).reshape(1,-1)"
   ]
  },
  {
   "cell_type": "code",
   "execution_count": 30,
   "id": "01e90f0d",
   "metadata": {},
   "outputs": [],
   "source": [
    "# initializing the torch.tensors for our data\n",
    "tX_train_gs = torch.tensor(np.array(X_train_gs)).float()\n",
    "tY_train_gs = torch.tensor(np.array(Y_train_gs)).float()\n",
    "\n",
    "tX_test_gs = torch.tensor(np.array(X_test_gs)).float()\n",
    "tY_test_gs = torch.tensor(np.array(Y_test_gs)).float()\n",
    "\n",
    "\n",
    "tX_train_sbi = torch.tensor(np.array(X_train_sbi)).float()\n",
    "tY_train_sbi = torch.tensor(np.array(Y_train_sbi)).float()\n",
    "\n",
    "tX_test_sbi = torch.tensor(np.array(X_test_sbi)).float()\n",
    "tY_test_sbi = torch.tensor(np.array(Y_test_sbi)).float()"
   ]
  },
  {
   "cell_type": "code",
   "execution_count": 52,
   "id": "eefe741c",
   "metadata": {},
   "outputs": [
    {
     "data": {
      "text/plain": [
       "Date\n",
       "1999-05-05     17.238125\n",
       "1999-05-06     18.620382\n",
       "1999-05-07     18.960051\n",
       "1999-05-10     19.549751\n",
       "1999-05-11     19.719585\n",
       "                 ...    \n",
       "2011-04-08    277.825012\n",
       "2011-04-11    278.420013\n",
       "2011-04-13    281.899994\n",
       "2011-04-15    280.815002\n",
       "2011-04-18    275.154999\n",
       "Name: Close, Length: 3035, dtype: float64"
      ]
     },
     "execution_count": 52,
     "metadata": {},
     "output_type": "execute_result"
    }
   ],
   "source": [
    "X_train_sbi"
   ]
  },
  {
   "cell_type": "code",
   "execution_count": 40,
   "id": "98024dfd",
   "metadata": {},
   "outputs": [
    {
     "data": {
      "text/plain": [
       "tensor([[ 69.1250,  53.4583,  49.5938],\n",
       "        [ 67.9375,  51.7083,  47.4375],\n",
       "        [ 74.1250,  52.2500,  50.3438],\n",
       "        ...,\n",
       "        [135.8400,  42.5500,  23.6900],\n",
       "        [136.3400,  42.3400,  23.5300],\n",
       "        [136.2400,  42.2700,  23.5600]], dtype=torch.float64)"
      ]
     },
     "execution_count": 40,
     "metadata": {},
     "output_type": "execute_result"
    }
   ],
   "source": [
    "tX_train_gs"
   ]
  },
  {
   "cell_type": "code",
   "execution_count": 25,
   "id": "a5f7fc4a",
   "metadata": {},
   "outputs": [
    {
     "data": {
      "text/plain": [
       "tensor([[73.5000, 54.8750, 53.4062],\n",
       "        [73.1875, 56.0000, 54.0000]], dtype=torch.float64)"
      ]
     },
     "execution_count": 25,
     "metadata": {},
     "output_type": "execute_result"
    }
   ],
   "source": [
    "tX_train_gs[5:7,:]"
   ]
  },
  {
   "cell_type": "code",
   "execution_count": 39,
   "id": "62052d03",
   "metadata": {},
   "outputs": [
    {
     "data": {
      "text/plain": [
       "tensor([[[ 69.1250,  53.4583,  49.5938],\n",
       "         [ 67.9375,  51.7083,  47.4375],\n",
       "         [ 74.1250,  52.2500,  50.3438],\n",
       "         [ 70.6875,  52.6667,  48.9375],\n",
       "         [ 70.6250,  53.3333,  50.4062]],\n",
       "\n",
       "        [[ 73.5000,  54.8750,  53.4062],\n",
       "         [ 73.1875,  56.0000,  54.0000],\n",
       "         [ 70.1875,  52.7083,  50.0625],\n",
       "         [ 68.6250,  52.4167,  50.0312],\n",
       "         [ 68.6250,  52.5000,  49.4688]],\n",
       "\n",
       "        [[ 69.3125,  53.4583,  49.5000],\n",
       "         [ 68.3750,  53.4583,  47.9062],\n",
       "         [ 67.5000,  52.6250,  47.4375],\n",
       "         [ 65.3125,  50.5833,  45.3750],\n",
       "         [ 64.5000,  49.2083,  44.5312]],\n",
       "\n",
       "        ...,\n",
       "\n",
       "        [[150.4100,  45.1700,  25.1400],\n",
       "         [150.1000,  45.0400,  25.2400],\n",
       "         [149.1200,  44.9600,  25.0800],\n",
       "         [150.4000,  45.1600,  25.4600],\n",
       "         [147.8800,  44.2300,  24.6100]],\n",
       "\n",
       "        [[142.7500,  44.0900,  24.5100],\n",
       "         [141.4600,  43.1500,  24.1300],\n",
       "         [140.6000,  42.8800,  23.8800],\n",
       "         [140.8100,  43.8100,  24.2000],\n",
       "         [140.8400,  44.0800,  24.3700]],\n",
       "\n",
       "        [[139.3400,  44.0000,  24.3000],\n",
       "         [134.9900,  43.1300,  23.8300],\n",
       "         [135.8400,  42.5500,  23.6900],\n",
       "         [136.3400,  42.3400,  23.5300],\n",
       "         [136.2400,  42.2700,  23.5600]]], dtype=torch.float64)"
      ]
     },
     "execution_count": 39,
     "metadata": {},
     "output_type": "execute_result"
    }
   ],
   "source": [
    "tX_train_gs.reshape(607,5, -1)"
   ]
  },
  {
   "cell_type": "code",
   "execution_count": 7,
   "id": "bfc7f522",
   "metadata": {},
   "outputs": [
    {
     "name": "stdout",
     "output_type": "stream",
     "text": [
      "Goldman train shape: (3036, 3)\n",
      "Goldman test shape: (1631, 3)\n",
      "SBI train: (3036,)\n",
      "SBI test: (1627,)\n"
     ]
    }
   ],
   "source": [
    "print(\"Goldman train shape:\",X_train_gs.shape)\n",
    "print(\"Goldman test shape:\", X_test_gs.shape)\n",
    "print(\"SBI train:\",X_train_sbi.shape)\n",
    "print(\"SBI test:\",X_test_sbi.shape)"
   ]
  },
  {
   "cell_type": "code",
   "execution_count": 33,
   "id": "c0531795",
   "metadata": {},
   "outputs": [
    {
     "data": {
      "text/plain": [
       "tensor([[ 69.1250,  53.4583,  49.5938],\n",
       "        [ 67.9375,  51.7083,  47.4375],\n",
       "        [ 74.1250,  52.2500,  50.3438],\n",
       "        ...,\n",
       "        [135.8400,  42.5500,  23.6900],\n",
       "        [136.3400,  42.3400,  23.5300],\n",
       "        [136.2400,  42.2700,  23.5600]], dtype=torch.float64)"
      ]
     },
     "execution_count": 33,
     "metadata": {},
     "output_type": "execute_result"
    }
   ],
   "source": [
    "tX_train_gs"
   ]
  },
  {
   "cell_type": "code",
   "execution_count": 36,
   "id": "3b48de67",
   "metadata": {},
   "outputs": [
    {
     "data": {
      "text/plain": [
       "tensor([[ 69.1250,  53.4583,  49.5938,  ...,  44.7700,  74.9500,  30.4900],\n",
       "        [ 44.3300,  76.1000,  31.0400,  ...,  52.5600,  85.6100, 230.7100],\n",
       "        [ 52.2900,  85.6300, 228.5400,  ..., 136.2400,  42.2700,  23.5600]],\n",
       "       dtype=torch.float64)"
      ]
     },
     "execution_count": 36,
     "metadata": {},
     "output_type": "execute_result"
    }
   ],
   "source": [
    "tX_train_gs.reshape((3,-1))"
   ]
  },
  {
   "cell_type": "code",
   "execution_count": 27,
   "id": "80f762ed",
   "metadata": {},
   "outputs": [
    {
     "data": {
      "text/plain": [
       "tensor([[273.3350],\n",
       "        [279.5150],\n",
       "        [286.1150],\n",
       "        ...,\n",
       "        [324.9500],\n",
       "        [333.4000],\n",
       "        [337.5000]], dtype=torch.float64)"
      ]
     },
     "execution_count": 27,
     "metadata": {},
     "output_type": "execute_result"
    }
   ],
   "source": [
    "tX_test_sbi.view(-1,1)"
   ]
  },
  {
   "cell_type": "code",
   "execution_count": 57,
   "id": "c3d08870",
   "metadata": {},
   "outputs": [
    {
     "data": {
      "text/plain": [
       "9105"
      ]
     },
     "execution_count": 57,
     "metadata": {},
     "output_type": "execute_result"
    }
   ],
   "source": [
    "tX_train_gs.reshape(-1,1).shape[0]"
   ]
  },
  {
   "cell_type": "code",
   "execution_count": null,
   "id": "2b965ccc",
   "metadata": {},
   "outputs": [],
   "source": [
    "\"\"\"\n",
    "\n",
    "LSTM  (input:3) -> (output:1)\n",
    "batch\n",
    "\n",
    "sequence length: 3\n",
    "batch length:(607)  5 x 607 = 3035\n",
    "\n",
    "sbi: input_len = 1\n",
    "gs: input_len = 3\n",
    "\n",
    "\"\"\""
   ]
  },
  {
   "cell_type": "code",
   "execution_count": 59,
   "id": "95ccecf0",
   "metadata": {},
   "outputs": [
    {
     "data": {
      "text/plain": [
       "torch.Size([3035, 3])"
      ]
     },
     "execution_count": 59,
     "metadata": {},
     "output_type": "execute_result"
    }
   ],
   "source": [
    "tX_train_gs.shape"
   ]
  },
  {
   "cell_type": "code",
   "execution_count": 60,
   "id": "eefa26c6",
   "metadata": {},
   "outputs": [
    {
     "data": {
      "text/plain": [
       "3035"
      ]
     },
     "execution_count": 60,
     "metadata": {},
     "output_type": "execute_result"
    }
   ],
   "source": [
    "len(tX_train_gs)"
   ]
  },
  {
   "cell_type": "code",
   "execution_count": 67,
   "id": "e3a3e2cb",
   "metadata": {},
   "outputs": [
    {
     "data": {
      "text/plain": [
       "torch.Size([3035, 3])"
      ]
     },
     "execution_count": 67,
     "metadata": {},
     "output_type": "execute_result"
    }
   ],
   "source": [
    "tX_train_gs.shape"
   ]
  },
  {
   "cell_type": "code",
   "execution_count": 73,
   "id": "51197efb",
   "metadata": {},
   "outputs": [
    {
     "name": "stdout",
     "output_type": "stream",
     "text": [
      "tensor([[69.1250, 53.4583, 49.5938],\n",
      "        [67.9375, 51.7083, 47.4375],\n",
      "        [74.1250, 52.2500, 50.3438],\n",
      "        [70.6875, 52.6667, 48.9375],\n",
      "        [70.6250, 53.3333, 50.4062],\n",
      "        [73.5000, 54.8750, 53.4062],\n",
      "        [73.1875, 56.0000, 54.0000],\n",
      "        [70.1875, 52.7083, 50.0625],\n",
      "        [68.6250, 52.4167, 50.0312],\n",
      "        [68.6250, 52.5000, 49.4688]], dtype=torch.float64)\n"
     ]
    }
   ],
   "source": [
    "print(tX_train_gs[:10])"
   ]
  },
  {
   "cell_type": "code",
   "execution_count": 76,
   "id": "d0f25067",
   "metadata": {},
   "outputs": [
    {
     "data": {
      "text/plain": [
       "tensor([[[ 70.6875,  52.6667,  48.9375],\n",
       "         [ 70.6250,  53.3333,  50.4062]],\n",
       "\n",
       "        [[ 68.6250,  52.4167,  50.0312],\n",
       "         [ 68.6250,  52.5000,  49.4688]],\n",
       "\n",
       "        [[ 65.3125,  50.5833,  45.3750],\n",
       "         [ 64.5000,  49.2083,  44.5312]],\n",
       "\n",
       "        ...,\n",
       "\n",
       "        [[150.4000,  45.1600,  25.4600],\n",
       "         [147.8800,  44.2300,  24.6100]],\n",
       "\n",
       "        [[140.8100,  43.8100,  24.2000],\n",
       "         [140.8400,  44.0800,  24.3700]],\n",
       "\n",
       "        [[136.3400,  42.3400,  23.5300],\n",
       "         [136.2400,  42.2700,  23.5600]]], dtype=torch.float64)"
      ]
     },
     "execution_count": 76,
     "metadata": {},
     "output_type": "execute_result"
    }
   ],
   "source": [
    "tX_train_gs.reshape((607, -1, 3))[:,3:5,:]"
   ]
  },
  {
   "cell_type": "code",
   "execution_count": 79,
   "id": "59cf9efb",
   "metadata": {},
   "outputs": [
    {
     "data": {
      "text/plain": [
       "tensor([70.6250, 73.5000], dtype=torch.float64)"
      ]
     },
     "execution_count": 79,
     "metadata": {},
     "output_type": "execute_result"
    }
   ],
   "source": [
    "tY_train_gs[3:5]"
   ]
  },
  {
   "cell_type": "code",
   "execution_count": 8,
   "id": "3fad19d5",
   "metadata": {},
   "outputs": [],
   "source": [
    "def get_batches(X_, Y_, batch_size, seq_length, inp_length):\n",
    "    '''Create a generator that returns batches of size\n",
    "       batch_size x seq_length from arr.\n",
    "       \n",
    "       Arguments\n",
    "       ---------\n",
    "       arr: Array you want to make batches from\n",
    "       batch_size: Batch size, the number of sequences per batch\n",
    "       seq_length: Number of encoded chars in a sequence\n",
    "    '''\n",
    "    \n",
    "    batch_size_total = batch_size * seq_length\n",
    "    # total number of batches we can make\n",
    "    n_batches = len(X_)//batch_size_total\n",
    "    \n",
    "    # Keep only enough characters to make full batches\n",
    "    X = X_[:n_batches * batch_size_total]\n",
    "    Y = Y_[:n_batches * batch_size_total]\n",
    "    # Reshape into batch_size rows\n",
    "    X = X.reshape((batch_size, -1, inp_length))\n",
    "    Y = Y.reshape((batch_size, -1))\n",
    "    \n",
    "    # iterate through the array, one sequence at a time\n",
    "    for n in range(0, X.shape[1], seq_length):\n",
    "        # The features\n",
    "        x = X[:, n:n+seq_length,:]\n",
    "        y = Y[:, n:n+seq_length]\n",
    "        yield x, y\n",
    "        "
   ]
  },
  {
   "cell_type": "code",
   "execution_count": 107,
   "id": "f82647d9",
   "metadata": {},
   "outputs": [],
   "source": [
    "class LSTM_Base(nn.Module):\n",
    "    def __init__(self, n_input, n_hidden=256, n_layers=2, drop_prob=0.25, n_output=1):\n",
    "        super().__init__()\n",
    "        self.n_input = n_input\n",
    "        self.n_hidden = n_hidden\n",
    "        self.n_layers = n_layers\n",
    "        self.n_output = n_output\n",
    "        self.drop_prob = drop_prob\n",
    "        self.sig = nn.Sigmoid()\n",
    "        self.relu = nn.ReLU()\n",
    "        \n",
    "        self.lstm = nn.LSTM(n_input, n_hidden, n_layers, batch_first=True)\n",
    "        self.linear1 = nn.Linear(n_hidden, n_output)\n",
    "        \n",
    "    def forward(self, x_, h_):\n",
    "        out, h = self.lstm(x_, h_)\n",
    "        out = out[:,-1,:]\n",
    "        out = self.linear1(out)\n",
    "        out = self.relu(out)\n",
    "        \n",
    "        return out, h\n",
    "        \n",
    "    def init_hidden(self, batch_size=1):\n",
    "        weight = next(self.parameters()).data\n",
    "        hidden = (weight.new(self.n_layers, batch_size, self.n_hidden).zero_(),\n",
    "                      weight.new(self.n_layers, batch_size, self.n_hidden).zero_())\n",
    "        return hidden"
   ]
  },
  {
   "cell_type": "code",
   "execution_count": null,
   "id": "17a17e7f",
   "metadata": {},
   "outputs": [],
   "source": []
  },
  {
   "cell_type": "code",
   "execution_count": 103,
   "id": "2982b6b6",
   "metadata": {},
   "outputs": [],
   "source": [
    "train_on_gpu=False"
   ]
  },
  {
   "cell_type": "code",
   "execution_count": 108,
   "id": "b9b28f26",
   "metadata": {},
   "outputs": [],
   "source": [
    "def train(net, X_train, y_train,X_test, y_test,inp_length,epochs=10, batch_size=10, seq_length=50,\n",
    "          lr=0.001, clip=5,val_frac=0.1, print_every=10):\n",
    "    ''' Training a network \n",
    "    \n",
    "        Arguments\n",
    "        ---------\n",
    "        \n",
    "        net: CharRNN network\n",
    "        data: data to train the network\n",
    "        epochs: Number of epochs to train\n",
    "        batch_size: Number of mini-sequences per mini-batch, aka batch size\n",
    "        seq_length: Number of character steps per mini-batch\n",
    "        lr: learning rate\n",
    "        clip: gradient clipping\n",
    "        val_frac: Fraction of data to hold out for validation\n",
    "        print_every: Number of steps for printing training and validation loss\n",
    "    \n",
    "    '''\n",
    "    net.train()\n",
    "    \n",
    "    opt = torch.optim.RMSprop(net.parameters(), lr=lr)\n",
    "    criterion = nn.MSELoss()\n",
    "    \n",
    "    \n",
    "    \n",
    "    if(train_on_gpu):\n",
    "        net.cuda()\n",
    "    counter = 0\n",
    "    for e in range(epochs):\n",
    "        # initialize hidden state\n",
    "        h = net.init_hidden(batch_size)\n",
    "        \n",
    "        for inputs, targets in get_batches(X_train, y_train, batch_size, seq_length, inp_length):\n",
    "            counter += 1\n",
    "            \n",
    "            \n",
    "            #inputs, targets = torch.from_numpy(x), torch.from_numpy(y)\n",
    "            \n",
    "            if(train_on_gpu):\n",
    "                inputs, targets = inputs.cuda(), targets.cuda()\n",
    "\n",
    "            # Creating new variables for the hidden state, otherwise\n",
    "            # we'd backprop through the entire training history\n",
    "            h = tuple([each.data for each in h])\n",
    "\n",
    "            # zero accumulated gradients\n",
    "            net.zero_grad()\n",
    "            \n",
    "            # get the output from the model\n",
    "            output, h = net(inputs, h)\n",
    "            \n",
    "            # calculate the loss and perform backprop\n",
    "            print(output.shape, targets.shape)\n",
    "            loss = torch.mean( ( output.reshape(batch_size*seq_length)- targets.reshape(batch_size*seq_length) )**2 )\n",
    "            loss.backward()\n",
    "            # `clip_grad_norm` helps prevent the exploding gradient problem in RNNs / LSTMs.\n",
    "            nn.utils.clip_grad_norm_(net.parameters(), clip)\n",
    "            opt.step()\n",
    "            \n",
    "            # loss stats\n",
    "            if counter % print_every == 0:\n",
    "                # Get validation loss\n",
    "                val_h = net.init_hidden(batch_size)\n",
    "                val_losses = []\n",
    "                net.eval()\n",
    "                for x, y in get_batches(X_test, y_test, batch_size, seq_length, inp_length):\n",
    "                    # One-hot encode our data and make them Torch tensors\n",
    "                    #x = one_hot_encode(x, n_chars)\n",
    "                    #x, y = torch.from_numpy(x), torch.from_numpy(y)\n",
    "                    \n",
    "                    # Creating new variables for the hidden state, otherwise\n",
    "                    # we'd backprop through the entire training history\n",
    "                    val_h = tuple([each.data for each in val_h])\n",
    "                    \n",
    "                    inputs, targets = x, y\n",
    "                    if(train_on_gpu):\n",
    "                        inputs, targets = inputs.cuda(), targets.cuda()\n",
    "\n",
    "                    output, val_h = net(inputs, val_h)\n",
    "                    val_loss = criterion(output, targets.reshape(batch_size*seq_length))\n",
    "                \n",
    "                    val_losses.append(val_loss.item())\n",
    "                \n",
    "                net.train() # reset to train mode after iterationg through validation data\n",
    "                \n",
    "                print(\"Epoch: {}/{}...\".format(e+1, epochs),\n",
    "                      \"Step: {}...\".format(counter),\n",
    "                      \"Loss: {:.4f}...\".format(loss.item()),\n",
    "                      \"Val Loss: {:.4f}\".format(np.mean(val_losses)))"
   ]
  },
  {
   "cell_type": "code",
   "execution_count": 109,
   "id": "120a1eb1",
   "metadata": {},
   "outputs": [],
   "source": [
    "ntwrk = LSTM_Base(1)"
   ]
  },
  {
   "cell_type": "code",
   "execution_count": 110,
   "id": "31c43ee9",
   "metadata": {},
   "outputs": [
    {
     "name": "stdout",
     "output_type": "stream",
     "text": [
      "torch.Size([10, 1]) torch.Size([10, 50])\n"
     ]
    },
    {
     "ename": "RuntimeError",
     "evalue": "shape '[500]' is invalid for input of size 10",
     "output_type": "error",
     "traceback": [
      "\u001b[1;31m---------------------------------------------------------------------------\u001b[0m",
      "\u001b[1;31mRuntimeError\u001b[0m                              Traceback (most recent call last)",
      "\u001b[1;32m~\\AppData\\Local\\Temp/ipykernel_10444/2963666517.py\u001b[0m in \u001b[0;36m<module>\u001b[1;34m\u001b[0m\n\u001b[1;32m----> 1\u001b[1;33m \u001b[0mtrain\u001b[0m\u001b[1;33m(\u001b[0m\u001b[0mntwrk\u001b[0m\u001b[1;33m,\u001b[0m \u001b[0mtX_train_sbi\u001b[0m\u001b[1;33m,\u001b[0m \u001b[0mtY_train_sbi\u001b[0m\u001b[1;33m,\u001b[0m \u001b[0mtX_test_sbi\u001b[0m\u001b[1;33m,\u001b[0m \u001b[0mtY_test_sbi\u001b[0m\u001b[1;33m,\u001b[0m \u001b[1;36m1\u001b[0m\u001b[1;33m)\u001b[0m\u001b[1;33m\u001b[0m\u001b[1;33m\u001b[0m\u001b[0m\n\u001b[0m",
      "\u001b[1;32m~\\AppData\\Local\\Temp/ipykernel_10444/4061845919.py\u001b[0m in \u001b[0;36mtrain\u001b[1;34m(net, X_train, y_train, X_test, y_test, inp_length, epochs, batch_size, seq_length, lr, clip, val_frac, print_every)\u001b[0m\n\u001b[0;32m     52\u001b[0m             \u001b[1;31m# calculate the loss and perform backprop\u001b[0m\u001b[1;33m\u001b[0m\u001b[1;33m\u001b[0m\u001b[0m\n\u001b[0;32m     53\u001b[0m             \u001b[0mprint\u001b[0m\u001b[1;33m(\u001b[0m\u001b[0moutput\u001b[0m\u001b[1;33m.\u001b[0m\u001b[0mshape\u001b[0m\u001b[1;33m,\u001b[0m \u001b[0mtargets\u001b[0m\u001b[1;33m.\u001b[0m\u001b[0mshape\u001b[0m\u001b[1;33m)\u001b[0m\u001b[1;33m\u001b[0m\u001b[1;33m\u001b[0m\u001b[0m\n\u001b[1;32m---> 54\u001b[1;33m             \u001b[0mloss\u001b[0m \u001b[1;33m=\u001b[0m \u001b[0mtorch\u001b[0m\u001b[1;33m.\u001b[0m\u001b[0mmean\u001b[0m\u001b[1;33m(\u001b[0m \u001b[1;33m(\u001b[0m \u001b[0moutput\u001b[0m\u001b[1;33m.\u001b[0m\u001b[0mreshape\u001b[0m\u001b[1;33m(\u001b[0m\u001b[0mbatch_size\u001b[0m\u001b[1;33m*\u001b[0m\u001b[0mseq_length\u001b[0m\u001b[1;33m)\u001b[0m\u001b[1;33m-\u001b[0m \u001b[0mtargets\u001b[0m\u001b[1;33m.\u001b[0m\u001b[0mreshape\u001b[0m\u001b[1;33m(\u001b[0m\u001b[0mbatch_size\u001b[0m\u001b[1;33m*\u001b[0m\u001b[0mseq_length\u001b[0m\u001b[1;33m)\u001b[0m \u001b[1;33m)\u001b[0m\u001b[1;33m**\u001b[0m\u001b[1;36m2\u001b[0m \u001b[1;33m)\u001b[0m\u001b[1;33m\u001b[0m\u001b[1;33m\u001b[0m\u001b[0m\n\u001b[0m\u001b[0;32m     55\u001b[0m             \u001b[0mloss\u001b[0m\u001b[1;33m.\u001b[0m\u001b[0mbackward\u001b[0m\u001b[1;33m(\u001b[0m\u001b[1;33m)\u001b[0m\u001b[1;33m\u001b[0m\u001b[1;33m\u001b[0m\u001b[0m\n\u001b[0;32m     56\u001b[0m             \u001b[1;31m# `clip_grad_norm` helps prevent the exploding gradient problem in RNNs / LSTMs.\u001b[0m\u001b[1;33m\u001b[0m\u001b[1;33m\u001b[0m\u001b[0m\n",
      "\u001b[1;31mRuntimeError\u001b[0m: shape '[500]' is invalid for input of size 10"
     ]
    }
   ],
   "source": [
    "train(ntwrk, tX_train_sbi, tY_train_sbi, tX_test_sbi, tY_test_sbi, 1)"
   ]
  },
  {
   "cell_type": "code",
   "execution_count": 87,
   "id": "52e34d49",
   "metadata": {},
   "outputs": [
    {
     "data": {
      "text/plain": [
       "<bound method Module.parameters of LSTM_Base(\n",
       "  (sig): Sigmoid()\n",
       "  (relu): ReLU()\n",
       "  (lstm): LSTM(1, 256, num_layers=2, batch_first=True)\n",
       "  (linear1): Linear(in_features=256, out_features=20, bias=True)\n",
       "  (linear2): Linear(in_features=20, out_features=1, bias=True)\n",
       ")>"
      ]
     },
     "execution_count": 87,
     "metadata": {},
     "output_type": "execute_result"
    }
   ],
   "source": [
    "ntwrk.parameters"
   ]
  }
 ],
 "metadata": {
  "kernelspec": {
   "display_name": "Python 3 (ipykernel)",
   "language": "python",
   "name": "python3"
  },
  "language_info": {
   "codemirror_mode": {
    "name": "ipython",
    "version": 3
   },
   "file_extension": ".py",
   "mimetype": "text/x-python",
   "name": "python",
   "nbconvert_exporter": "python",
   "pygments_lexer": "ipython3",
   "version": "3.9.7"
  }
 },
 "nbformat": 4,
 "nbformat_minor": 5
}
